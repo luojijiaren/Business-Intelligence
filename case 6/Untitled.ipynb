{
 "cells": [
  {
   "cell_type": "code",
   "execution_count": 33,
   "metadata": {},
   "outputs": [
    {
     "data": {
      "text/html": [
       "<div>\n",
       "<style>\n",
       "    .dataframe thead tr:only-child th {\n",
       "        text-align: right;\n",
       "    }\n",
       "\n",
       "    .dataframe thead th {\n",
       "        text-align: left;\n",
       "    }\n",
       "\n",
       "    .dataframe tbody tr th {\n",
       "        vertical-align: top;\n",
       "    }\n",
       "</style>\n",
       "<table border=\"1\" class=\"dataframe\">\n",
       "  <thead>\n",
       "    <tr style=\"text-align: right;\">\n",
       "      <th></th>\n",
       "      <th>count</th>\n",
       "      <th>mean</th>\n",
       "    </tr>\n",
       "    <tr>\n",
       "      <th>profit</th>\n",
       "      <th></th>\n",
       "      <th></th>\n",
       "    </tr>\n",
       "  </thead>\n",
       "  <tbody>\n",
       "    <tr>\n",
       "      <th>(-17412.275, 140708.263]</th>\n",
       "      <td>41858.0</td>\n",
       "      <td>363.028108</td>\n",
       "    </tr>\n",
       "    <tr>\n",
       "      <th>(140708.263, 297885.737]</th>\n",
       "      <td>7.0</td>\n",
       "      <td>172235.087143</td>\n",
       "    </tr>\n",
       "    <tr>\n",
       "      <th>(297885.737, 455063.21]</th>\n",
       "      <td>2.0</td>\n",
       "      <td>337777.605000</td>\n",
       "    </tr>\n",
       "    <tr>\n",
       "      <th>(455063.21, 612240.683]</th>\n",
       "      <td>1.0</td>\n",
       "      <td>507449.920000</td>\n",
       "    </tr>\n",
       "    <tr>\n",
       "      <th>(612240.683, 769418.157]</th>\n",
       "      <td>4.0</td>\n",
       "      <td>696036.417500</td>\n",
       "    </tr>\n",
       "    <tr>\n",
       "      <th>(769418.157, 926595.63]</th>\n",
       "      <td>1.0</td>\n",
       "      <td>926595.630000</td>\n",
       "    </tr>\n",
       "  </tbody>\n",
       "</table>\n",
       "</div>"
      ],
      "text/plain": [
       "                            count           mean\n",
       "profit                                          \n",
       "(-17412.275, 140708.263]  41858.0     363.028108\n",
       "(140708.263, 297885.737]      7.0  172235.087143\n",
       "(297885.737, 455063.21]       2.0  337777.605000\n",
       "(455063.21, 612240.683]       1.0  507449.920000\n",
       "(612240.683, 769418.157]      4.0  696036.417500\n",
       "(769418.157, 926595.63]       1.0  926595.630000"
      ]
     },
     "execution_count": 33,
     "metadata": {},
     "output_type": "execute_result"
    }
   ],
   "source": [
    "import pandas as pd\n",
    "data = pd.read_csv('playerdata.csv')\n",
    "p=data['profit']\n",
    "def get_stats(group):\n",
    "    return {'count':group.count(),'mean':group.mean()}\n",
    "factor=pd.cut(p,6)\n",
    "grouped=p.groupby(factor)\n",
    "grouped.apply(get_stats).unstack()"
   ]
  },
  {
   "cell_type": "code",
   "execution_count": 37,
   "metadata": {},
   "outputs": [
    {
     "ename": "AttributeError",
     "evalue": "'DataFrameGroupBy' object has no attribute 'show'",
     "output_type": "error",
     "traceback": [
      "\u001b[1;31m---------------------------------------------------------------------------\u001b[0m",
      "\u001b[1;31mAttributeError\u001b[0m                            Traceback (most recent call last)",
      "\u001b[1;32m<ipython-input-37-af00e9c73bde>\u001b[0m in \u001b[0;36m<module>\u001b[1;34m()\u001b[0m\n\u001b[1;32m----> 1\u001b[1;33m \u001b[0mdata\u001b[0m\u001b[1;33m.\u001b[0m\u001b[0mgroupby\u001b[0m\u001b[1;33m(\u001b[0m\u001b[0mfactor\u001b[0m\u001b[1;33m)\u001b[0m\u001b[1;33m.\u001b[0m\u001b[0mshow\u001b[0m\u001b[1;33m(\u001b[0m\u001b[1;33m)\u001b[0m\u001b[1;33m\u001b[0m\u001b[0m\n\u001b[0m",
      "\u001b[1;32m~\\Anaconda3\\lib\\site-packages\\pandas\\core\\groupby.py\u001b[0m in \u001b[0;36m__getattr__\u001b[1;34m(self, attr)\u001b[0m\n\u001b[0;32m    549\u001b[0m \u001b[1;33m\u001b[0m\u001b[0m\n\u001b[0;32m    550\u001b[0m         raise AttributeError(\"%r object has no attribute %r\" %\n\u001b[1;32m--> 551\u001b[1;33m                              (type(self).__name__, attr))\n\u001b[0m\u001b[0;32m    552\u001b[0m \u001b[1;33m\u001b[0m\u001b[0m\n\u001b[0;32m    553\u001b[0m     \u001b[0mplot\u001b[0m \u001b[1;33m=\u001b[0m \u001b[0mproperty\u001b[0m\u001b[1;33m(\u001b[0m\u001b[0mGroupByPlot\u001b[0m\u001b[1;33m)\u001b[0m\u001b[1;33m\u001b[0m\u001b[0m\n",
      "\u001b[1;31mAttributeError\u001b[0m: 'DataFrameGroupBy' object has no attribute 'show'"
     ]
    }
   ],
   "source": []
  }
 ],
 "metadata": {
  "kernelspec": {
   "display_name": "Python 3",
   "language": "python",
   "name": "python3"
  },
  "language_info": {
   "codemirror_mode": {
    "name": "ipython",
    "version": 3
   },
   "file_extension": ".py",
   "mimetype": "text/x-python",
   "name": "python",
   "nbconvert_exporter": "python",
   "pygments_lexer": "ipython3",
   "version": "3.6.3"
  }
 },
 "nbformat": 4,
 "nbformat_minor": 2
}
